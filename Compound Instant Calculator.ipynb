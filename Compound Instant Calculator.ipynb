{
 "cells": [
  {
   "cell_type": "code",
   "execution_count": 3,
   "id": "bc09718e-28ca-49ec-831b-6ae3a6c6ac77",
   "metadata": {},
   "outputs": [],
   "source": [
    "from tkinter import *\n",
    "\n",
    "# Function for clearing the contents of all entry boxes\n",
    "def clear_all():\n",
    "    principal_field.delete(0, END)\n",
    "    rate_field.delete(0, END)\n",
    "    time_field.delete(0, END)\n",
    "    compound_field.delete(0, END)\n",
    "    principal_field.focus_set()\n",
    "\n",
    "# Function to find compound interest\n",
    "def calculate_ci():\n",
    "    principal = int(principal_field.get())\n",
    "    rate = float(rate_field.get())\n",
    "    time = int(time_field.get())\n",
    "    CI = principal * (pow((1 + rate / 100), time))\n",
    "    compound_field.insert(10, round(CI, 2))\n",
    "\n",
    "# Driver code\n",
    "if __name__ == \"__main__\":\n",
    "    root = Tk()\n",
    "    root.configure(background='light blue')\n",
    "    root.geometry(\"400x300\")\n",
    "    root.title(\"Compound Interest Calculator\")\n",
    "\n",
    "    # Create labels\n",
    "    label1 = Label(root, text=\"Principal Amount (Rs):\", fg='white', bg='dark blue', font=('Helvetica', 12, 'bold'))\n",
    "    label2 = Label(root, text=\"Rate (%):\", fg='white', bg='dark blue', font=('Helvetica', 12, 'bold'))\n",
    "    label3 = Label(root, text=\"Time (years):\", fg='white', bg='dark blue', font=('Helvetica', 12, 'bold'))\n",
    "    label4 = Label(root, text=\"Compound Interest:\", fg='white', bg='dark blue', font=('Helvetica', 12, 'bold'))\n",
    "\n",
    "    # Position labels\n",
    "    label1.grid(row=1, column=0, padx=10, pady=10)\n",
    "    label2.grid(row=2, column=0, padx=10, pady=10)\n",
    "    label3.grid(row=3, column=0, padx=10, pady=10)\n",
    "    label4.grid(row=5, column=0, padx=10, pady=10)\n",
    "\n",
    "    # Create entry boxes\n",
    "    principal_field = Entry(root, bg='white')\n",
    "    rate_field = Entry(root, bg='white')\n",
    "    time_field = Entry(root, bg='white')\n",
    "    compound_field = Entry(root, bg='white')\n",
    "\n",
    "    # Position entry boxes\n",
    "    principal_field.grid(row=1, column=1, padx=10, pady=10)\n",
    "    rate_field.grid(row=2, column=1, padx=10, pady=10)\n",
    "    time_field.grid(row=3, column=1, padx=10, pady=10)\n",
    "    compound_field.grid(row=5, column=1, padx=10, pady=10)\n",
    "\n",
    "    # Create buttons\n",
    "    button1 = Button(root, text=\"Submit\", bg=\"dark blue\", fg=\"white\", command=calculate_ci)\n",
    "    button2 = Button(root, text=\"Clear\", bg=\"dark blue\", fg=\"white\", command=clear_all)\n",
    "\n",
    "    # Position buttons\n",
    "    button1.grid(row=4, column=1, pady=10)\n",
    "    button2.grid(row=6, column=1, pady=10)\n",
    "\n",
    "    # Start the GUI\n",
    "    root.mainloop()\n"
   ]
  },
  {
   "cell_type": "markdown",
   "id": "b457230c-3249-40b7-855c-b6259137898b",
   "metadata": {},
   "source": [
    "# "
   ]
  }
 ],
 "metadata": {
  "kernelspec": {
   "display_name": "Python 3 (ipykernel)",
   "language": "python",
   "name": "python3"
  },
  "language_info": {
   "codemirror_mode": {
    "name": "ipython",
    "version": 3
   },
   "file_extension": ".py",
   "mimetype": "text/x-python",
   "name": "python",
   "nbconvert_exporter": "python",
   "pygments_lexer": "ipython3",
   "version": "3.11.7"
  }
 },
 "nbformat": 4,
 "nbformat_minor": 5
}
